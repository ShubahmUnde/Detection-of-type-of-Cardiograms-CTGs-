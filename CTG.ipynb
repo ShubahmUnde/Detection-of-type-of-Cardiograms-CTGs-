{
 "cells": [
  {
   "cell_type": "code",
   "execution_count": null,
   "metadata": {},
   "outputs": [],
   "source": [
    "#Ensemble techniques means there arae more than one classifire whihc predict than more than one algorithm"
   ]
  },
  {
   "cell_type": "markdown",
   "metadata": {},
   "source": [
    "# importing the libraries"
   ]
  },
  {
   "cell_type": "code",
   "execution_count": 1,
   "metadata": {},
   "outputs": [],
   "source": [
    "import pandas as pd\n",
    "from sklearn.ensemble import RandomForestClassifier\n",
    "from sklearn.model_selection import train_test_split\n",
    "from sklearn.metrics import accuracy_score,confusion_matrix,classification_report"
   ]
  },
  {
   "cell_type": "code",
   "execution_count": 2,
   "metadata": {},
   "outputs": [],
   "source": [
    "import seaborn as sns\n",
    "import matplotlib.pyplot as plt\n"
   ]
  },
  {
   "cell_type": "markdown",
   "metadata": {},
   "source": [
    "# Overview of dataset"
   ]
  },
  {
   "cell_type": "code",
   "execution_count": 3,
   "metadata": {},
   "outputs": [
    {
     "data": {
      "text/html": [
       "<div>\n",
       "<style scoped>\n",
       "    .dataframe tbody tr th:only-of-type {\n",
       "        vertical-align: middle;\n",
       "    }\n",
       "\n",
       "    .dataframe tbody tr th {\n",
       "        vertical-align: top;\n",
       "    }\n",
       "\n",
       "    .dataframe thead th {\n",
       "        text-align: right;\n",
       "    }\n",
       "</style>\n",
       "<table border=\"1\" class=\"dataframe\">\n",
       "  <thead>\n",
       "    <tr style=\"text-align: right;\">\n",
       "      <th></th>\n",
       "      <th>LB</th>\n",
       "      <th>AC</th>\n",
       "      <th>FM</th>\n",
       "      <th>UC</th>\n",
       "      <th>DL</th>\n",
       "      <th>DS</th>\n",
       "      <th>DP</th>\n",
       "      <th>ASTV</th>\n",
       "      <th>MSTV</th>\n",
       "      <th>ALTV</th>\n",
       "      <th>...</th>\n",
       "      <th>Max</th>\n",
       "      <th>Nmax</th>\n",
       "      <th>Nzeros</th>\n",
       "      <th>Mode</th>\n",
       "      <th>Mean</th>\n",
       "      <th>Median</th>\n",
       "      <th>Variance</th>\n",
       "      <th>Tendency</th>\n",
       "      <th>CLASS</th>\n",
       "      <th>NSP</th>\n",
       "    </tr>\n",
       "  </thead>\n",
       "  <tbody>\n",
       "    <tr>\n",
       "      <th>count</th>\n",
       "      <td>2126.000000</td>\n",
       "      <td>2126.000000</td>\n",
       "      <td>2126.000000</td>\n",
       "      <td>2126.000000</td>\n",
       "      <td>2126.000000</td>\n",
       "      <td>2126.000000</td>\n",
       "      <td>2126.000000</td>\n",
       "      <td>2126.000000</td>\n",
       "      <td>2126.000000</td>\n",
       "      <td>2126.00000</td>\n",
       "      <td>...</td>\n",
       "      <td>2126.000000</td>\n",
       "      <td>2126.000000</td>\n",
       "      <td>2126.000000</td>\n",
       "      <td>2126.000000</td>\n",
       "      <td>2126.000000</td>\n",
       "      <td>2126.000000</td>\n",
       "      <td>2126.000000</td>\n",
       "      <td>2126.000000</td>\n",
       "      <td>2126.000000</td>\n",
       "      <td>2126.000000</td>\n",
       "    </tr>\n",
       "    <tr>\n",
       "      <th>mean</th>\n",
       "      <td>133.303857</td>\n",
       "      <td>2.722484</td>\n",
       "      <td>7.241298</td>\n",
       "      <td>3.659925</td>\n",
       "      <td>1.570085</td>\n",
       "      <td>0.003293</td>\n",
       "      <td>0.126058</td>\n",
       "      <td>46.990122</td>\n",
       "      <td>1.332785</td>\n",
       "      <td>9.84666</td>\n",
       "      <td>...</td>\n",
       "      <td>164.025400</td>\n",
       "      <td>4.068203</td>\n",
       "      <td>0.323612</td>\n",
       "      <td>137.452023</td>\n",
       "      <td>134.610536</td>\n",
       "      <td>138.090310</td>\n",
       "      <td>18.808090</td>\n",
       "      <td>0.320320</td>\n",
       "      <td>4.509878</td>\n",
       "      <td>1.304327</td>\n",
       "    </tr>\n",
       "    <tr>\n",
       "      <th>std</th>\n",
       "      <td>9.840844</td>\n",
       "      <td>3.560850</td>\n",
       "      <td>37.125309</td>\n",
       "      <td>2.847094</td>\n",
       "      <td>2.499229</td>\n",
       "      <td>0.057300</td>\n",
       "      <td>0.464361</td>\n",
       "      <td>17.192814</td>\n",
       "      <td>0.883241</td>\n",
       "      <td>18.39688</td>\n",
       "      <td>...</td>\n",
       "      <td>17.944183</td>\n",
       "      <td>2.949386</td>\n",
       "      <td>0.706059</td>\n",
       "      <td>16.381289</td>\n",
       "      <td>15.593596</td>\n",
       "      <td>14.466589</td>\n",
       "      <td>28.977636</td>\n",
       "      <td>0.610829</td>\n",
       "      <td>3.026883</td>\n",
       "      <td>0.614377</td>\n",
       "    </tr>\n",
       "    <tr>\n",
       "      <th>min</th>\n",
       "      <td>106.000000</td>\n",
       "      <td>0.000000</td>\n",
       "      <td>0.000000</td>\n",
       "      <td>0.000000</td>\n",
       "      <td>0.000000</td>\n",
       "      <td>0.000000</td>\n",
       "      <td>0.000000</td>\n",
       "      <td>12.000000</td>\n",
       "      <td>0.200000</td>\n",
       "      <td>0.00000</td>\n",
       "      <td>...</td>\n",
       "      <td>122.000000</td>\n",
       "      <td>0.000000</td>\n",
       "      <td>0.000000</td>\n",
       "      <td>60.000000</td>\n",
       "      <td>73.000000</td>\n",
       "      <td>77.000000</td>\n",
       "      <td>0.000000</td>\n",
       "      <td>-1.000000</td>\n",
       "      <td>1.000000</td>\n",
       "      <td>1.000000</td>\n",
       "    </tr>\n",
       "    <tr>\n",
       "      <th>25%</th>\n",
       "      <td>126.000000</td>\n",
       "      <td>0.000000</td>\n",
       "      <td>0.000000</td>\n",
       "      <td>1.000000</td>\n",
       "      <td>0.000000</td>\n",
       "      <td>0.000000</td>\n",
       "      <td>0.000000</td>\n",
       "      <td>32.000000</td>\n",
       "      <td>0.700000</td>\n",
       "      <td>0.00000</td>\n",
       "      <td>...</td>\n",
       "      <td>152.000000</td>\n",
       "      <td>2.000000</td>\n",
       "      <td>0.000000</td>\n",
       "      <td>129.000000</td>\n",
       "      <td>125.000000</td>\n",
       "      <td>129.000000</td>\n",
       "      <td>2.000000</td>\n",
       "      <td>0.000000</td>\n",
       "      <td>2.000000</td>\n",
       "      <td>1.000000</td>\n",
       "    </tr>\n",
       "    <tr>\n",
       "      <th>50%</th>\n",
       "      <td>133.000000</td>\n",
       "      <td>1.000000</td>\n",
       "      <td>0.000000</td>\n",
       "      <td>3.000000</td>\n",
       "      <td>0.000000</td>\n",
       "      <td>0.000000</td>\n",
       "      <td>0.000000</td>\n",
       "      <td>49.000000</td>\n",
       "      <td>1.200000</td>\n",
       "      <td>0.00000</td>\n",
       "      <td>...</td>\n",
       "      <td>162.000000</td>\n",
       "      <td>3.000000</td>\n",
       "      <td>0.000000</td>\n",
       "      <td>139.000000</td>\n",
       "      <td>136.000000</td>\n",
       "      <td>139.000000</td>\n",
       "      <td>7.000000</td>\n",
       "      <td>0.000000</td>\n",
       "      <td>4.000000</td>\n",
       "      <td>1.000000</td>\n",
       "    </tr>\n",
       "    <tr>\n",
       "      <th>75%</th>\n",
       "      <td>140.000000</td>\n",
       "      <td>4.000000</td>\n",
       "      <td>2.000000</td>\n",
       "      <td>5.000000</td>\n",
       "      <td>3.000000</td>\n",
       "      <td>0.000000</td>\n",
       "      <td>0.000000</td>\n",
       "      <td>61.000000</td>\n",
       "      <td>1.700000</td>\n",
       "      <td>11.00000</td>\n",
       "      <td>...</td>\n",
       "      <td>174.000000</td>\n",
       "      <td>6.000000</td>\n",
       "      <td>0.000000</td>\n",
       "      <td>148.000000</td>\n",
       "      <td>145.000000</td>\n",
       "      <td>148.000000</td>\n",
       "      <td>24.000000</td>\n",
       "      <td>1.000000</td>\n",
       "      <td>7.000000</td>\n",
       "      <td>1.000000</td>\n",
       "    </tr>\n",
       "    <tr>\n",
       "      <th>max</th>\n",
       "      <td>160.000000</td>\n",
       "      <td>26.000000</td>\n",
       "      <td>564.000000</td>\n",
       "      <td>23.000000</td>\n",
       "      <td>16.000000</td>\n",
       "      <td>1.000000</td>\n",
       "      <td>4.000000</td>\n",
       "      <td>87.000000</td>\n",
       "      <td>7.000000</td>\n",
       "      <td>91.00000</td>\n",
       "      <td>...</td>\n",
       "      <td>238.000000</td>\n",
       "      <td>18.000000</td>\n",
       "      <td>10.000000</td>\n",
       "      <td>187.000000</td>\n",
       "      <td>182.000000</td>\n",
       "      <td>186.000000</td>\n",
       "      <td>269.000000</td>\n",
       "      <td>1.000000</td>\n",
       "      <td>10.000000</td>\n",
       "      <td>3.000000</td>\n",
       "    </tr>\n",
       "  </tbody>\n",
       "</table>\n",
       "<p>8 rows × 23 columns</p>\n",
       "</div>"
      ],
      "text/plain": [
       "                LB           AC           FM           UC           DL  \\\n",
       "count  2126.000000  2126.000000  2126.000000  2126.000000  2126.000000   \n",
       "mean    133.303857     2.722484     7.241298     3.659925     1.570085   \n",
       "std       9.840844     3.560850    37.125309     2.847094     2.499229   \n",
       "min     106.000000     0.000000     0.000000     0.000000     0.000000   \n",
       "25%     126.000000     0.000000     0.000000     1.000000     0.000000   \n",
       "50%     133.000000     1.000000     0.000000     3.000000     0.000000   \n",
       "75%     140.000000     4.000000     2.000000     5.000000     3.000000   \n",
       "max     160.000000    26.000000   564.000000    23.000000    16.000000   \n",
       "\n",
       "                DS           DP         ASTV         MSTV        ALTV  ...  \\\n",
       "count  2126.000000  2126.000000  2126.000000  2126.000000  2126.00000  ...   \n",
       "mean      0.003293     0.126058    46.990122     1.332785     9.84666  ...   \n",
       "std       0.057300     0.464361    17.192814     0.883241    18.39688  ...   \n",
       "min       0.000000     0.000000    12.000000     0.200000     0.00000  ...   \n",
       "25%       0.000000     0.000000    32.000000     0.700000     0.00000  ...   \n",
       "50%       0.000000     0.000000    49.000000     1.200000     0.00000  ...   \n",
       "75%       0.000000     0.000000    61.000000     1.700000    11.00000  ...   \n",
       "max       1.000000     4.000000    87.000000     7.000000    91.00000  ...   \n",
       "\n",
       "               Max         Nmax       Nzeros         Mode         Mean  \\\n",
       "count  2126.000000  2126.000000  2126.000000  2126.000000  2126.000000   \n",
       "mean    164.025400     4.068203     0.323612   137.452023   134.610536   \n",
       "std      17.944183     2.949386     0.706059    16.381289    15.593596   \n",
       "min     122.000000     0.000000     0.000000    60.000000    73.000000   \n",
       "25%     152.000000     2.000000     0.000000   129.000000   125.000000   \n",
       "50%     162.000000     3.000000     0.000000   139.000000   136.000000   \n",
       "75%     174.000000     6.000000     0.000000   148.000000   145.000000   \n",
       "max     238.000000    18.000000    10.000000   187.000000   182.000000   \n",
       "\n",
       "            Median     Variance     Tendency        CLASS          NSP  \n",
       "count  2126.000000  2126.000000  2126.000000  2126.000000  2126.000000  \n",
       "mean    138.090310    18.808090     0.320320     4.509878     1.304327  \n",
       "std      14.466589    28.977636     0.610829     3.026883     0.614377  \n",
       "min      77.000000     0.000000    -1.000000     1.000000     1.000000  \n",
       "25%     129.000000     2.000000     0.000000     2.000000     1.000000  \n",
       "50%     139.000000     7.000000     0.000000     4.000000     1.000000  \n",
       "75%     148.000000    24.000000     1.000000     7.000000     1.000000  \n",
       "max     186.000000   269.000000     1.000000    10.000000     3.000000  \n",
       "\n",
       "[8 rows x 23 columns]"
      ]
     },
     "execution_count": 3,
     "metadata": {},
     "output_type": "execute_result"
    }
   ],
   "source": [
    "#reading and overview of dataset\n",
    "ctg=pd.read_csv('F:\\DATA SCIENCE\\python\\py\\ALGORITHMS\\Random Forest (ensemble)\\ctg_1.csv')\n",
    "ctg.describe()"
   ]
  },
  {
   "cell_type": "code",
   "execution_count": 4,
   "metadata": {},
   "outputs": [
    {
     "data": {
      "text/plain": [
       "<bound method NDFrame.head of        LB  AC  FM  UC  DL  DS  DP  ASTV  MSTV  ALTV  ...  Max  Nmax  Nzeros  \\\n",
       "0     120   0   0   0   0   0   0    73   0.5    43  ...  126     2       0   \n",
       "1     132   4   0   4   2   0   0    17   2.1     0  ...  198     6       1   \n",
       "2     133   2   0   5   2   0   0    16   2.1     0  ...  198     5       1   \n",
       "3     134   2   0   6   2   0   0    16   2.4     0  ...  170    11       0   \n",
       "4     132   4   0   5   0   0   0    16   2.4     0  ...  170     9       0   \n",
       "...   ...  ..  ..  ..  ..  ..  ..   ...   ...   ...  ...  ...   ...     ...   \n",
       "2121  140   0   0   6   0   0   0    79   0.2    25  ...  177     4       0   \n",
       "2122  140   1   0   9   0   0   0    78   0.4    22  ...  169     6       0   \n",
       "2123  140   1   0   7   0   0   0    79   0.4    20  ...  170     5       0   \n",
       "2124  140   1   0   9   0   0   0    78   0.4    27  ...  169     6       0   \n",
       "2125  142   1   1   5   0   0   0    74   0.4    36  ...  159     2       1   \n",
       "\n",
       "      Mode  Mean  Median  Variance  Tendency  CLASS  NSP  \n",
       "0      120   137     121        73         1      9    2  \n",
       "1      141   136     140        12         0      6    1  \n",
       "2      141   135     138        13         0      6    1  \n",
       "3      137   134     137        13         1      6    1  \n",
       "4      137   136     138        11         1      2    1  \n",
       "...    ...   ...     ...       ...       ...    ...  ...  \n",
       "2121   153   150     152         2         0      5    2  \n",
       "2122   152   148     151         3         1      5    2  \n",
       "2123   153   148     152         4         1      5    2  \n",
       "2124   152   147     151         4         1      5    2  \n",
       "2125   145   143     145         1         0      1    1  \n",
       "\n",
       "[2126 rows x 23 columns]>"
      ]
     },
     "execution_count": 4,
     "metadata": {},
     "output_type": "execute_result"
    }
   ],
   "source": [
    "ctg.shape\n",
    "ctg.head"
   ]
  },
  {
   "cell_type": "code",
   "execution_count": 5,
   "metadata": {},
   "outputs": [
    {
     "data": {
      "text/plain": [
       "LB            int64\n",
       "AC            int64\n",
       "FM            int64\n",
       "UC            int64\n",
       "DL            int64\n",
       "DS            int64\n",
       "DP            int64\n",
       "ASTV          int64\n",
       "MSTV        float64\n",
       "ALTV          int64\n",
       "MLTV        float64\n",
       "Width         int64\n",
       "Min           int64\n",
       "Max           int64\n",
       "Nmax          int64\n",
       "Nzeros        int64\n",
       "Mode          int64\n",
       "Mean          int64\n",
       "Median        int64\n",
       "Variance      int64\n",
       "Tendency      int64\n",
       "CLASS         int64\n",
       "NSP           int64\n",
       "dtype: object"
      ]
     },
     "execution_count": 5,
     "metadata": {},
     "output_type": "execute_result"
    }
   ],
   "source": [
    "ctg.dtypes"
   ]
  },
  {
   "cell_type": "markdown",
   "metadata": {},
   "source": [
    "# EDA"
   ]
  },
  {
   "cell_type": "code",
   "execution_count": 6,
   "metadata": {},
   "outputs": [
    {
     "data": {
      "text/plain": [
       "22"
      ]
     },
     "execution_count": 6,
     "metadata": {},
     "output_type": "execute_result"
    }
   ],
   "source": [
    "cols=list(ctg.columns)\n",
    "cols.remove('NSP')\n",
    "len(cols)"
   ]
  },
  {
   "cell_type": "markdown",
   "metadata": {},
   "source": [
    "# Build the correlation plot"
   ]
  },
  {
   "cell_type": "code",
   "execution_count": 31,
   "metadata": {},
   "outputs": [
    {
     "data": {
      "text/plain": [
       "<Figure size 7200x7200 with 0 Axes>"
      ]
     },
     "execution_count": 31,
     "metadata": {},
     "output_type": "execute_result"
    },
    {
     "data": {
      "image/png": "[encoded data removed]",
      "text/plain": [
       "<Figure size 432x288 with 2 Axes>"
      ]
     },
     "metadata": {
      "needs_background": "light"
     },
     "output_type": "display_data"
    },
    {
     "data": {
      "text/plain": [
       "<Figure size 7200x7200 with 0 Axes>"
      ]
     },
     "metadata": {},
     "output_type": "display_data"
    }
   ],
   "source": [
    "cor=ctg.corr()\n",
    "cor\n",
    "sns.heatmap(cor,vmin=-1,vmax=1,xticklabels=cols,yticklabels=cols,\n",
    "            annot=False,square=True)\n",
    "plt.title('correlation matrix')\n",
    "plt.figure(figsize=(100,100))\n",
    "#so by the plot we get that there is correlation in LB and \n",
    "#mean , mode ,median cols."
   ]
  },
  {
   "cell_type": "markdown",
   "metadata": {},
   "source": [
    "#First we build the model as it is"
   ]
  },
  {
   "cell_type": "markdown",
   "metadata": {},
   "source": [
    "# Splitting of data"
   ]
  },
  {
   "cell_type": "code",
   "execution_count": 15,
   "metadata": {},
   "outputs": [],
   "source": [
    "trainx,testx,trainy,testy=train_test_split(ctg.drop('NSP',axis=1),\n",
    "                                                    ctg.NSP,\n",
    "                                                    test_size=0.3)"
   ]
  },
  {
   "cell_type": "code",
   "execution_count": 16,
   "metadata": {},
   "outputs": [
    {
     "name": "stdout",
     "output_type": "stream",
     "text": [
      "trainx=(1488, 22),trainy=(1488,),testx=(638, 22),testy=(638,)\n"
     ]
    }
   ],
   "source": [
    "print('trainx={},trainy={},testx={},testy={}'.format(trainx.shape,\n",
    "                                                      trainy.shape,\n",
    "                                                      testx.shape,\n",
    "                                                      testy.shape))"
   ]
  },
  {
   "cell_type": "markdown",
   "metadata": {},
   "source": [
    "# Model building"
   ]
  },
  {
   "cell_type": "code",
   "execution_count": 17,
   "metadata": {},
   "outputs": [],
   "source": [
    "m1=RandomForestClassifier().fit(trainx,trainy)\n",
    "p1=m1.predict(testx)"
   ]
  },
  {
   "cell_type": "markdown",
   "metadata": {},
   "source": [
    "#Accuracy"
   ]
  },
  {
   "cell_type": "code",
   "execution_count": 58,
   "metadata": {},
   "outputs": [],
   "source": [
    "AC_base=accuracy_score(testy, p1)"
   ]
  },
  {
   "cell_type": "markdown",
   "metadata": {},
   "source": [
    "# Confucion matrix\n"
   ]
  },
  {
   "cell_type": "markdown",
   "metadata": {},
   "source": [
    "#So we used Cross tab for interpretation\n",
    "#its not easy to inturpret confusion mat od RF"
   ]
  },
  {
   "cell_type": "code",
   "execution_count": 19,
   "metadata": {},
   "outputs": [
    {
     "data": {
      "text/html": [
       "<div>\n",
       "<style scoped>\n",
       "    .dataframe tbody tr th:only-of-type {\n",
       "        vertical-align: middle;\n",
       "    }\n",
       "\n",
       "    .dataframe tbody tr th {\n",
       "        vertical-align: top;\n",
       "    }\n",
       "\n",
       "    .dataframe thead th {\n",
       "        text-align: right;\n",
       "    }\n",
       "</style>\n",
       "<table border=\"1\" class=\"dataframe\">\n",
       "  <thead>\n",
       "    <tr style=\"text-align: right;\">\n",
       "      <th>predicted</th>\n",
       "      <th>1</th>\n",
       "      <th>2</th>\n",
       "      <th>3</th>\n",
       "      <th>All</th>\n",
       "    </tr>\n",
       "    <tr>\n",
       "      <th>actual</th>\n",
       "      <th></th>\n",
       "      <th></th>\n",
       "      <th></th>\n",
       "      <th></th>\n",
       "    </tr>\n",
       "  </thead>\n",
       "  <tbody>\n",
       "    <tr>\n",
       "      <th>1</th>\n",
       "      <td>487</td>\n",
       "      <td>1</td>\n",
       "      <td>0</td>\n",
       "      <td>488</td>\n",
       "    </tr>\n",
       "    <tr>\n",
       "      <th>2</th>\n",
       "      <td>8</td>\n",
       "      <td>91</td>\n",
       "      <td>1</td>\n",
       "      <td>100</td>\n",
       "    </tr>\n",
       "    <tr>\n",
       "      <th>3</th>\n",
       "      <td>0</td>\n",
       "      <td>2</td>\n",
       "      <td>48</td>\n",
       "      <td>50</td>\n",
       "    </tr>\n",
       "    <tr>\n",
       "      <th>All</th>\n",
       "      <td>495</td>\n",
       "      <td>94</td>\n",
       "      <td>49</td>\n",
       "      <td>638</td>\n",
       "    </tr>\n",
       "  </tbody>\n",
       "</table>\n",
       "</div>"
      ],
      "text/plain": [
       "predicted    1   2   3  All\n",
       "actual                     \n",
       "1          487   1   0  488\n",
       "2            8  91   1  100\n",
       "3            0   2  48   50\n",
       "All        495  94  49  638"
      ]
     },
     "execution_count": 19,
     "metadata": {},
     "output_type": "execute_result"
    }
   ],
   "source": [
    "df1=pd.DataFrame({'actual':testy,'predicted':p1})\n",
    "pd.crosstab(df1.actual, df1.predicted,margins=True)"
   ]
  },
  {
   "cell_type": "markdown",
   "metadata": {},
   "source": [
    "# Classification report for this"
   ]
  },
  {
   "cell_type": "code",
   "execution_count": 20,
   "metadata": {},
   "outputs": [
    {
     "name": "stdout",
     "output_type": "stream",
     "text": [
      "              precision    recall  f1-score   support\n",
      "\n",
      "           1       0.98      1.00      0.99       488\n",
      "           2       0.97      0.91      0.94       100\n",
      "           3       0.98      0.96      0.97        50\n",
      "\n",
      "    accuracy                           0.98       638\n",
      "   macro avg       0.98      0.96      0.97       638\n",
      "weighted avg       0.98      0.98      0.98       638\n",
      "\n"
     ]
    }
   ],
   "source": [
    "class_reprt=classification_report(testy, p1)\n",
    "print(class_reprt)"
   ]
  },
  {
   "cell_type": "markdown",
   "metadata": {},
   "source": [
    "# Important features"
   ]
  },
  {
   "cell_type": "code",
   "execution_count": 21,
   "metadata": {},
   "outputs": [],
   "source": [
    "score=pd.DataFrame({'features':cols,\n",
    "                    'score':m1.feature_importances_})\n",
    "score.sort_values('score',ascending=False,inplace=True)"
   ]
  },
  {
   "cell_type": "code",
   "execution_count": 32,
   "metadata": {},
   "outputs": [
    {
     "data": {
      "text/plain": [
       "Text(0.5, 1.0, 'Random Forest-important features')"
      ]
     },
     "execution_count": 32,
     "metadata": {},
     "output_type": "execute_result"
    },
    {
     "data": {
      "image/png": "[encoded data removed]",
      "text/plain": [
       "<Figure size 432x288 with 1 Axes>"
      ]
     },
     "metadata": {
      "needs_background": "light"
     },
     "output_type": "display_data"
    }
   ],
   "source": [
    "#score\n",
    "sns.barplot(x=score.score, y=score.features,color='green')\n",
    "#plt.figure(figsize=(10,10))\n",
    "plt.title(\"Random Forest-important features\")"
   ]
  },
  {
   "cell_type": "code",
   "execution_count": 33,
   "metadata": {},
   "outputs": [
    {
     "data": {
      "text/html": [
       "<div>\n",
       "<style scoped>\n",
       "    .dataframe tbody tr th:only-of-type {\n",
       "        vertical-align: middle;\n",
       "    }\n",
       "\n",
       "    .dataframe tbody tr th {\n",
       "        vertical-align: top;\n",
       "    }\n",
       "\n",
       "    .dataframe thead th {\n",
       "        text-align: right;\n",
       "    }\n",
       "</style>\n",
       "<table border=\"1\" class=\"dataframe\">\n",
       "  <thead>\n",
       "    <tr style=\"text-align: right;\">\n",
       "      <th></th>\n",
       "      <th>CLASS</th>\n",
       "      <th>ASTV</th>\n",
       "      <th>ALTV</th>\n",
       "      <th>MSTV</th>\n",
       "      <th>Mean</th>\n",
       "      <th>Median</th>\n",
       "      <th>Mode</th>\n",
       "      <th>AC</th>\n",
       "      <th>DP</th>\n",
       "      <th>Min</th>\n",
       "      <th>Variance</th>\n",
       "      <th>MLTV</th>\n",
       "      <th>LB</th>\n",
       "      <th>UC</th>\n",
       "      <th>NSP</th>\n",
       "    </tr>\n",
       "  </thead>\n",
       "  <tbody>\n",
       "    <tr>\n",
       "      <th>0</th>\n",
       "      <td>9</td>\n",
       "      <td>73</td>\n",
       "      <td>43</td>\n",
       "      <td>0.5</td>\n",
       "      <td>137</td>\n",
       "      <td>121</td>\n",
       "      <td>120</td>\n",
       "      <td>0</td>\n",
       "      <td>0</td>\n",
       "      <td>62</td>\n",
       "      <td>73</td>\n",
       "      <td>2.4</td>\n",
       "      <td>120</td>\n",
       "      <td>0</td>\n",
       "      <td>2</td>\n",
       "    </tr>\n",
       "    <tr>\n",
       "      <th>1</th>\n",
       "      <td>6</td>\n",
       "      <td>17</td>\n",
       "      <td>0</td>\n",
       "      <td>2.1</td>\n",
       "      <td>136</td>\n",
       "      <td>140</td>\n",
       "      <td>141</td>\n",
       "      <td>4</td>\n",
       "      <td>0</td>\n",
       "      <td>68</td>\n",
       "      <td>12</td>\n",
       "      <td>10.4</td>\n",
       "      <td>132</td>\n",
       "      <td>4</td>\n",
       "      <td>1</td>\n",
       "    </tr>\n",
       "    <tr>\n",
       "      <th>2</th>\n",
       "      <td>6</td>\n",
       "      <td>16</td>\n",
       "      <td>0</td>\n",
       "      <td>2.1</td>\n",
       "      <td>135</td>\n",
       "      <td>138</td>\n",
       "      <td>141</td>\n",
       "      <td>2</td>\n",
       "      <td>0</td>\n",
       "      <td>68</td>\n",
       "      <td>13</td>\n",
       "      <td>13.4</td>\n",
       "      <td>133</td>\n",
       "      <td>5</td>\n",
       "      <td>1</td>\n",
       "    </tr>\n",
       "    <tr>\n",
       "      <th>3</th>\n",
       "      <td>6</td>\n",
       "      <td>16</td>\n",
       "      <td>0</td>\n",
       "      <td>2.4</td>\n",
       "      <td>134</td>\n",
       "      <td>137</td>\n",
       "      <td>137</td>\n",
       "      <td>2</td>\n",
       "      <td>0</td>\n",
       "      <td>53</td>\n",
       "      <td>13</td>\n",
       "      <td>23.0</td>\n",
       "      <td>134</td>\n",
       "      <td>6</td>\n",
       "      <td>1</td>\n",
       "    </tr>\n",
       "    <tr>\n",
       "      <th>4</th>\n",
       "      <td>2</td>\n",
       "      <td>16</td>\n",
       "      <td>0</td>\n",
       "      <td>2.4</td>\n",
       "      <td>136</td>\n",
       "      <td>138</td>\n",
       "      <td>137</td>\n",
       "      <td>4</td>\n",
       "      <td>0</td>\n",
       "      <td>53</td>\n",
       "      <td>11</td>\n",
       "      <td>19.9</td>\n",
       "      <td>132</td>\n",
       "      <td>5</td>\n",
       "      <td>1</td>\n",
       "    </tr>\n",
       "    <tr>\n",
       "      <th>...</th>\n",
       "      <td>...</td>\n",
       "      <td>...</td>\n",
       "      <td>...</td>\n",
       "      <td>...</td>\n",
       "      <td>...</td>\n",
       "      <td>...</td>\n",
       "      <td>...</td>\n",
       "      <td>...</td>\n",
       "      <td>...</td>\n",
       "      <td>...</td>\n",
       "      <td>...</td>\n",
       "      <td>...</td>\n",
       "      <td>...</td>\n",
       "      <td>...</td>\n",
       "      <td>...</td>\n",
       "    </tr>\n",
       "    <tr>\n",
       "      <th>2121</th>\n",
       "      <td>5</td>\n",
       "      <td>79</td>\n",
       "      <td>25</td>\n",
       "      <td>0.2</td>\n",
       "      <td>150</td>\n",
       "      <td>152</td>\n",
       "      <td>153</td>\n",
       "      <td>0</td>\n",
       "      <td>0</td>\n",
       "      <td>137</td>\n",
       "      <td>2</td>\n",
       "      <td>7.2</td>\n",
       "      <td>140</td>\n",
       "      <td>6</td>\n",
       "      <td>2</td>\n",
       "    </tr>\n",
       "    <tr>\n",
       "      <th>2122</th>\n",
       "      <td>5</td>\n",
       "      <td>78</td>\n",
       "      <td>22</td>\n",
       "      <td>0.4</td>\n",
       "      <td>148</td>\n",
       "      <td>151</td>\n",
       "      <td>152</td>\n",
       "      <td>1</td>\n",
       "      <td>0</td>\n",
       "      <td>103</td>\n",
       "      <td>3</td>\n",
       "      <td>7.1</td>\n",
       "      <td>140</td>\n",
       "      <td>9</td>\n",
       "      <td>2</td>\n",
       "    </tr>\n",
       "    <tr>\n",
       "      <th>2123</th>\n",
       "      <td>5</td>\n",
       "      <td>79</td>\n",
       "      <td>20</td>\n",
       "      <td>0.4</td>\n",
       "      <td>148</td>\n",
       "      <td>152</td>\n",
       "      <td>153</td>\n",
       "      <td>1</td>\n",
       "      <td>0</td>\n",
       "      <td>103</td>\n",
       "      <td>4</td>\n",
       "      <td>6.1</td>\n",
       "      <td>140</td>\n",
       "      <td>7</td>\n",
       "      <td>2</td>\n",
       "    </tr>\n",
       "    <tr>\n",
       "      <th>2124</th>\n",
       "      <td>5</td>\n",
       "      <td>78</td>\n",
       "      <td>27</td>\n",
       "      <td>0.4</td>\n",
       "      <td>147</td>\n",
       "      <td>151</td>\n",
       "      <td>152</td>\n",
       "      <td>1</td>\n",
       "      <td>0</td>\n",
       "      <td>103</td>\n",
       "      <td>4</td>\n",
       "      <td>7.0</td>\n",
       "      <td>140</td>\n",
       "      <td>9</td>\n",
       "      <td>2</td>\n",
       "    </tr>\n",
       "    <tr>\n",
       "      <th>2125</th>\n",
       "      <td>1</td>\n",
       "      <td>74</td>\n",
       "      <td>36</td>\n",
       "      <td>0.4</td>\n",
       "      <td>143</td>\n",
       "      <td>145</td>\n",
       "      <td>145</td>\n",
       "      <td>1</td>\n",
       "      <td>0</td>\n",
       "      <td>117</td>\n",
       "      <td>1</td>\n",
       "      <td>5.0</td>\n",
       "      <td>142</td>\n",
       "      <td>5</td>\n",
       "      <td>1</td>\n",
       "    </tr>\n",
       "  </tbody>\n",
       "</table>\n",
       "<p>2126 rows × 15 columns</p>\n",
       "</div>"
      ],
      "text/plain": [
       "      CLASS  ASTV  ALTV  MSTV  Mean  Median  Mode  AC  DP  Min  Variance  \\\n",
       "0         9    73    43   0.5   137     121   120   0   0   62        73   \n",
       "1         6    17     0   2.1   136     140   141   4   0   68        12   \n",
       "2         6    16     0   2.1   135     138   141   2   0   68        13   \n",
       "3         6    16     0   2.4   134     137   137   2   0   53        13   \n",
       "4         2    16     0   2.4   136     138   137   4   0   53        11   \n",
       "...     ...   ...   ...   ...   ...     ...   ...  ..  ..  ...       ...   \n",
       "2121      5    79    25   0.2   150     152   153   0   0  137         2   \n",
       "2122      5    78    22   0.4   148     151   152   1   0  103         3   \n",
       "2123      5    79    20   0.4   148     152   153   1   0  103         4   \n",
       "2124      5    78    27   0.4   147     151   152   1   0  103         4   \n",
       "2125      1    74    36   0.4   143     145   145   1   0  117         1   \n",
       "\n",
       "      MLTV   LB  UC  NSP  \n",
       "0      2.4  120   0    2  \n",
       "1     10.4  132   4    1  \n",
       "2     13.4  133   5    1  \n",
       "3     23.0  134   6    1  \n",
       "4     19.9  132   5    1  \n",
       "...    ...  ...  ..  ...  \n",
       "2121   7.2  140   6    2  \n",
       "2122   7.1  140   9    2  \n",
       "2123   6.1  140   7    2  \n",
       "2124   7.0  140   9    2  \n",
       "2125   5.0  142   5    1  \n",
       "\n",
       "[2126 rows x 15 columns]"
      ]
     },
     "execution_count": 33,
     "metadata": {},
     "output_type": "execute_result"
    }
   ],
   "source": [
    "#according to top 10 important feature\n",
    "F_cols=ctg[['CLASS','ASTV','ALTV','MSTV','Mean','Median','Mode','AC','DP',\n",
    "         'Min','Variance','MLTV','LB','UC','NSP']]\n",
    "F_cols"
   ]
  },
  {
   "cell_type": "code",
   "execution_count": 34,
   "metadata": {},
   "outputs": [],
   "source": [
    "#spliting for new model\n",
    "trainx,testx,trainy,testy=train_test_split(F_cols.drop('NSP',axis=1),\n",
    "                                                    F_cols.NSP,\n",
    "                                                    test_size=0.3)"
   ]
  },
  {
   "cell_type": "code",
   "execution_count": 35,
   "metadata": {},
   "outputs": [
    {
     "name": "stdout",
     "output_type": "stream",
     "text": [
      "trainx=(1488, 14),trainy=(1488,),testx=(638, 14),testy=(638,)\n"
     ]
    }
   ],
   "source": [
    "print('trainx={},trainy={},testx={},testy={}'.format(trainx.shape,\n",
    "                                                      trainy.shape,\n",
    "                                                      testx.shape,\n",
    "                                                      testy.shape))"
   ]
  },
  {
   "cell_type": "markdown",
   "metadata": {},
   "source": [
    "# Model accordingg to highest score of important features"
   ]
  },
  {
   "cell_type": "code",
   "execution_count": 59,
   "metadata": {},
   "outputs": [],
   "source": [
    "m2=RandomForestClassifier().fit(trainx,trainy)\n",
    "p2=m2.predict(testx)\n",
    "AC_imp=accuracy_score(testy, p2)\n",
    "#so here we got more accuracy by taking importantn features only\n",
    "#so we used Cross tab for interpretation"
   ]
  },
  {
   "cell_type": "code",
   "execution_count": 60,
   "metadata": {},
   "outputs": [
    {
     "data": {
      "text/plain": [
       "0.9764890282131662"
      ]
     },
     "execution_count": 60,
     "metadata": {},
     "output_type": "execute_result"
    }
   ],
   "source": [
    "AC_imp"
   ]
  },
  {
   "cell_type": "code",
   "execution_count": 37,
   "metadata": {},
   "outputs": [
    {
     "data": {
      "text/html": [
       "<div>\n",
       "<style scoped>\n",
       "    .dataframe tbody tr th:only-of-type {\n",
       "        vertical-align: middle;\n",
       "    }\n",
       "\n",
       "    .dataframe tbody tr th {\n",
       "        vertical-align: top;\n",
       "    }\n",
       "\n",
       "    .dataframe thead th {\n",
       "        text-align: right;\n",
       "    }\n",
       "</style>\n",
       "<table border=\"1\" class=\"dataframe\">\n",
       "  <thead>\n",
       "    <tr style=\"text-align: right;\">\n",
       "      <th>predicted</th>\n",
       "      <th>1</th>\n",
       "      <th>2</th>\n",
       "      <th>3</th>\n",
       "      <th>All</th>\n",
       "    </tr>\n",
       "    <tr>\n",
       "      <th>actual</th>\n",
       "      <th></th>\n",
       "      <th></th>\n",
       "      <th></th>\n",
       "      <th></th>\n",
       "    </tr>\n",
       "  </thead>\n",
       "  <tbody>\n",
       "    <tr>\n",
       "      <th>1</th>\n",
       "      <td>500</td>\n",
       "      <td>0</td>\n",
       "      <td>0</td>\n",
       "      <td>500</td>\n",
       "    </tr>\n",
       "    <tr>\n",
       "      <th>2</th>\n",
       "      <td>14</td>\n",
       "      <td>78</td>\n",
       "      <td>0</td>\n",
       "      <td>92</td>\n",
       "    </tr>\n",
       "    <tr>\n",
       "      <th>3</th>\n",
       "      <td>0</td>\n",
       "      <td>1</td>\n",
       "      <td>45</td>\n",
       "      <td>46</td>\n",
       "    </tr>\n",
       "    <tr>\n",
       "      <th>All</th>\n",
       "      <td>514</td>\n",
       "      <td>79</td>\n",
       "      <td>45</td>\n",
       "      <td>638</td>\n",
       "    </tr>\n",
       "  </tbody>\n",
       "</table>\n",
       "</div>"
      ],
      "text/plain": [
       "predicted    1   2   3  All\n",
       "actual                     \n",
       "1          500   0   0  500\n",
       "2           14  78   0   92\n",
       "3            0   1  45   46\n",
       "All        514  79  45  638"
      ]
     },
     "execution_count": 37,
     "metadata": {},
     "output_type": "execute_result"
    }
   ],
   "source": [
    "df2=pd.DataFrame({'actual':testy,'predicted':p2})\n",
    "pd.crosstab(df2.actual, df2.predicted,margins=True)"
   ]
  },
  {
   "cell_type": "markdown",
   "metadata": {},
   "source": [
    "#Classification report for Model 2"
   ]
  },
  {
   "cell_type": "code",
   "execution_count": 38,
   "metadata": {},
   "outputs": [
    {
     "name": "stdout",
     "output_type": "stream",
     "text": [
      "              precision    recall  f1-score   support\n",
      "\n",
      "           1       0.98      1.00      0.99       488\n",
      "           2       0.97      0.91      0.94       100\n",
      "           3       0.98      0.96      0.97        50\n",
      "\n",
      "    accuracy                           0.98       638\n",
      "   macro avg       0.98      0.96      0.97       638\n",
      "weighted avg       0.98      0.98      0.98       638\n",
      "\n"
     ]
    }
   ],
   "source": [
    "class_reprtM2=classification_report(testy, p2)\n",
    "print(class_reprt)"
   ]
  },
  {
   "cell_type": "markdown",
   "metadata": {},
   "source": [
    "# Model wiyh hyper parameter tuning"
   ]
  },
  {
   "cell_type": "code",
   "execution_count": 48,
   "metadata": {},
   "outputs": [
    {
     "name": "stdout",
     "output_type": "stream",
     "text": [
      "Fitting 3 folds for each of 100 candidates, totalling 300 fits\n",
      "{'n_estimators': 966, 'min_samples_split': 5, 'min_samples_leaf': 4, 'max_features': None, 'max_depth': 538, 'criterion': 'entropy'}\n",
      "0.9885752688172044\n"
     ]
    }
   ],
   "source": [
    "#m2=RandomForestClassifier(n_estimators=20,criterion='entropy',\n",
    "                          #max_depth=6\n",
    "                          \n",
    "#Tuning Hyperparameters\n",
    "import numpy as np\n",
    "from sklearn.model_selection import RandomizedSearchCV\n",
    "random_search = {'criterion': ['entropy', 'gini'],\n",
    "    'max_depth': list(np.linspace(10, 1200, 10, dtype = int)) + [None],\n",
    "    'max_features': ['auto', 'sqrt','log2', None],\n",
    "    'min_samples_leaf': [4, 6, 8, 12],\n",
    "    'min_samples_split': [5, 7, 10, 14],\n",
    "    'n_estimators': list(np.linspace(151, 1200, 10, dtype = int))}\n",
    "\n",
    "model = RandomForestClassifier()\n",
    "model_random = RandomizedSearchCV(estimator = model, param_distributions = random_search, n_iter = 100,cv = 3, verbose= 2, random_state= 1, n_jobs = -1)\n",
    "model_random.fit(trainx,trainy)\n",
    "\n",
    "  "
   ]
  },
  {
   "cell_type": "code",
   "execution_count": 61,
   "metadata": {},
   "outputs": [
    {
     "name": "stdout",
     "output_type": "stream",
     "text": [
      "0.9885752688172044\n"
     ]
    }
   ],
   "source": [
    "print(model_random.best_score_)      "
   ]
  },
  {
   "cell_type": "code",
   "execution_count": 63,
   "metadata": {},
   "outputs": [],
   "source": [
    "#manual hypertuned model\n",
    "RF4=RandomForestClassifier(n_estimators=966,min_samples_split=5,min_samples_leaf=4,max_depth=538,criterion='entropy')"
   ]
  },
  {
   "cell_type": "code",
   "execution_count": 64,
   "metadata": {},
   "outputs": [],
   "source": [
    "M4=RF4.fit(trainx,trainy)"
   ]
  },
  {
   "cell_type": "code",
   "execution_count": 65,
   "metadata": {},
   "outputs": [],
   "source": [
    "p4=M4.predict(testx)"
   ]
  },
  {
   "cell_type": "code",
   "execution_count": 68,
   "metadata": {},
   "outputs": [],
   "source": [
    "Acc_manu=accuracy_score(testy,p4)"
   ]
  },
  {
   "cell_type": "code",
   "execution_count": 69,
   "metadata": {},
   "outputs": [
    {
     "data": {
      "text/plain": [
       "0.9764890282131662"
      ]
     },
     "execution_count": 69,
     "metadata": {},
     "output_type": "execute_result"
    }
   ],
   "source": [
    "Acc_manu"
   ]
  },
  {
   "cell_type": "code",
   "execution_count": 62,
   "metadata": {},
   "outputs": [
    {
     "name": "stdout",
     "output_type": "stream",
     "text": [
      "{'n_estimators': 966, 'min_samples_split': 5, 'min_samples_leaf': 4, 'max_features': None, 'max_depth': 538, 'criterion': 'entropy'}\n"
     ]
    }
   ],
   "source": [
    "print(model_random.best_params_)"
   ]
  },
  {
   "cell_type": "code",
   "execution_count": 49,
   "metadata": {},
   "outputs": [],
   "source": [
    "p3=model_random.predict(testx)"
   ]
  },
  {
   "cell_type": "code",
   "execution_count": 72,
   "metadata": {},
   "outputs": [],
   "source": [
    "AC_hyper=accuracy_score(testy,p3)"
   ]
  },
  {
   "cell_type": "code",
   "execution_count": 57,
   "metadata": {},
   "outputs": [
    {
     "name": "stdout",
     "output_type": "stream",
     "text": [
      "              precision    recall  f1-score   support\n",
      "\n",
      "           1       0.98      1.00      0.99       500\n",
      "           2       1.00      0.88      0.94        92\n",
      "           3       1.00      1.00      1.00        46\n",
      "\n",
      "    accuracy                           0.98       638\n",
      "   macro avg       0.99      0.96      0.98       638\n",
      "weighted avg       0.98      0.98      0.98       638\n",
      "\n"
     ]
    }
   ],
   "source": [
    "class_reportM3=classification_report(testy,p3)\n",
    "print(class_reportM3)"
   ]
  },
  {
   "cell_type": "markdown",
   "metadata": {},
   "source": [
    "# Comparison of all thre models"
   ]
  },
  {
   "cell_type": "code",
   "execution_count": 85,
   "metadata": {},
   "outputs": [
    {
     "name": "stdout",
     "output_type": "stream",
     "text": [
      "accuracy of basic model= 0.6520376175548589 \n",
      "accuracy of Imp features model= 0.9764890282131662 \n",
      "accuracy of Manual hypertuned= 0.9764890282131662 \n",
      "accuracy of Auto Hypertuned= 0.9827586206896551\n"
     ]
    }
   ],
   "source": [
    "print(\"accuracy of basic model=\",AC_base ,\"\\n\"\n",
    "     \"accuracy of Imp features model=\",AC_imp,\"\\n\"\n",
    "     \"accuracy of Manual hypertuned=\",Acc_manu,'\\n'\n",
    "     \"accuracy of Auto Hypertuned=\",AC_hyper)"
   ]
  },
  {
   "cell_type": "raw",
   "metadata": {},
   "source": []
  }
 ],
 "metadata": {
  "kernelspec": {
   "display_name": "Python 3",
   "language": "python",
   "name": "python3"
  },
  "language_info": {
   "codemirror_mode": {
    "name": "ipython",
    "version": 3
   },
   "file_extension": ".py",
   "mimetype": "text/x-python",
   "name": "python",
   "nbconvert_exporter": "python",
   "pygments_lexer": "ipython3",
   "version": "3.8.5"
  }
 },
 "nbformat": 4,
 "nbformat_minor": 2
}
